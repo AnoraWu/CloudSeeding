{
 "cells": [
  {
   "cell_type": "code",
   "execution_count": 40,
   "metadata": {},
   "outputs": [],
   "source": [
    "import pandas as pd\n",
    "df = pd.read_csv(\"/Users/anorawu/Documents/GitHub/CloudSeeding/data/气象局数据/气象局数据output/output_1-11 copy.csv\")"
   ]
  },
  {
   "cell_type": "code",
   "execution_count": 41,
   "metadata": {},
   "outputs": [
    {
     "data": {
      "text/html": [
       "<div>\n",
       "<style scoped>\n",
       "    .dataframe tbody tr th:only-of-type {\n",
       "        vertical-align: middle;\n",
       "    }\n",
       "\n",
       "    .dataframe tbody tr th {\n",
       "        vertical-align: top;\n",
       "    }\n",
       "\n",
       "    .dataframe thead th {\n",
       "        text-align: right;\n",
       "    }\n",
       "</style>\n",
       "<table border=\"1\" class=\"dataframe\">\n",
       "  <thead>\n",
       "    <tr style=\"text-align: right;\">\n",
       "      <th></th>\n",
       "      <th>index</th>\n",
       "      <th>气象局公告内容</th>\n",
       "    </tr>\n",
       "  </thead>\n",
       "  <tbody>\n",
       "    <tr>\n",
       "      <th>0</th>\n",
       "      <td>0</td>\n",
       "      <td>省局召开秋冬季人工影响天气工作电视电话会 欢迎访问安徽省气象局官网！ 安徽省气象局 ANH...</td>\n",
       "    </tr>\n",
       "    <tr>\n",
       "      <th>1</th>\n",
       "      <td>1</td>\n",
       "      <td>【40年改革获得感】“智慧气象”正在向我们走来 欢迎访问安徽省气象局官网！ 安徽省气象局 ...</td>\n",
       "    </tr>\n",
       "    <tr>\n",
       "      <th>2</th>\n",
       "      <td>2</td>\n",
       "      <td>安徽：立足职能定位的坚守与突破 欢迎访问安徽省气象局官网！ 安徽省气象局 ANHUI ME...</td>\n",
       "    </tr>\n",
       "    <tr>\n",
       "      <th>3</th>\n",
       "      <td>3</td>\n",
       "      <td>六安：抢抓降水时机开展人工增雨作业 欢迎访问安徽省气象局官网！ 安徽省气象局 ANHUI ...</td>\n",
       "    </tr>\n",
       "    <tr>\n",
       "      <th>4</th>\n",
       "      <td>4</td>\n",
       "      <td>气象网：淮水安澜梦正圆——淮河流域气象综合防灾减灾的安徽实践 欢迎访问安徽省气象局官网！ ...</td>\n",
       "    </tr>\n",
       "    <tr>\n",
       "      <th>...</th>\n",
       "      <td>...</td>\n",
       "      <td>...</td>\n",
       "    </tr>\n",
       "    <tr>\n",
       "      <th>1804</th>\n",
       "      <td>1804</td>\n",
       "      <td>我省开展空地结合大规模人工增雨作业 网站首页 机构与职能 政务信息 信息公开 气象科普 交...</td>\n",
       "    </tr>\n",
       "    <tr>\n",
       "      <th>1805</th>\n",
       "      <td>1805</td>\n",
       "      <td>旱情持续发展，气象部门抓住时机全力以赴实施抗旱增雨作业 网站首页 机构与职能 政务信息 信...</td>\n",
       "    </tr>\n",
       "    <tr>\n",
       "      <th>1806</th>\n",
       "      <td>1806</td>\n",
       "      <td>云南气象部门全力开展抗旱气象服务 网站首页 机构与职能 政务信息 信息公开 气象科普 交流...</td>\n",
       "    </tr>\n",
       "    <tr>\n",
       "      <th>1807</th>\n",
       "      <td>1807</td>\n",
       "      <td>我省开展加密空地结合人工增雨作业 网站首页 机构与职能 政务信息 信息公开 气象科普 交流...</td>\n",
       "    </tr>\n",
       "    <tr>\n",
       "      <th>1808</th>\n",
       "      <td>1808</td>\n",
       "      <td>气象局公告内容</td>\n",
       "    </tr>\n",
       "  </tbody>\n",
       "</table>\n",
       "<p>1809 rows × 2 columns</p>\n",
       "</div>"
      ],
      "text/plain": [
       "      index                                            气象局公告内容\n",
       "0         0   省局召开秋冬季人工影响天气工作电视电话会 欢迎访问安徽省气象局官网！ 安徽省气象局 ANH...\n",
       "1         1   【40年改革获得感】“智慧气象”正在向我们走来 欢迎访问安徽省气象局官网！ 安徽省气象局 ...\n",
       "2         2   安徽：立足职能定位的坚守与突破 欢迎访问安徽省气象局官网！ 安徽省气象局 ANHUI ME...\n",
       "3         3   六安：抢抓降水时机开展人工增雨作业 欢迎访问安徽省气象局官网！ 安徽省气象局 ANHUI ...\n",
       "4         4   气象网：淮水安澜梦正圆——淮河流域气象综合防灾减灾的安徽实践 欢迎访问安徽省气象局官网！ ...\n",
       "...     ...                                                ...\n",
       "1804   1804   我省开展空地结合大规模人工增雨作业 网站首页 机构与职能 政务信息 信息公开 气象科普 交...\n",
       "1805   1805   旱情持续发展，气象部门抓住时机全力以赴实施抗旱增雨作业 网站首页 机构与职能 政务信息 信...\n",
       "1806   1806   云南气象部门全力开展抗旱气象服务 网站首页 机构与职能 政务信息 信息公开 气象科普 交流...\n",
       "1807   1807   我省开展加密空地结合人工增雨作业 网站首页 机构与职能 政务信息 信息公开 气象科普 交流...\n",
       "1808   1808                                            气象局公告内容\n",
       "\n",
       "[1809 rows x 2 columns]"
      ]
     },
     "execution_count": 41,
     "metadata": {},
     "output_type": "execute_result"
    }
   ],
   "source": [
    "df = df[['气象局公告内容']]\n",
    "df.reset_index(inplace=True)\n",
    "df"
   ]
  },
  {
   "cell_type": "code",
   "execution_count": 42,
   "metadata": {},
   "outputs": [],
   "source": [
    "df.to_csv(\"/Users/anorawu/Documents/GitHub/CloudSeeding/data/气象局数据/气象局数据output/output_1-11 copy.csv\")"
   ]
  },
  {
   "cell_type": "code",
   "execution_count": 47,
   "metadata": {},
   "outputs": [],
   "source": [
    "df1 = pd.read_csv(\"/Users/anorawu/BFI Dropbox/Wanru Wu/Cloudseeding/data/气象局数据/人工处理/result.csv\")\n",
    "df2 = pd.read_csv(\"/Users/anorawu/BFI Dropbox/Wanru Wu/Cloudseeding/data/气象局数据/气象局数据output/output_1-11.csv\")\n",
    "df1.columns = ['time','location','index']"
   ]
  },
  {
   "cell_type": "code",
   "execution_count": 50,
   "metadata": {},
   "outputs": [],
   "source": [
    "df = df1.merge(df2,how='left',on=['index'])"
   ]
  },
  {
   "cell_type": "code",
   "execution_count": 52,
   "metadata": {},
   "outputs": [],
   "source": [
    "df = df[['time','location','index','气象局公告内容']]"
   ]
  },
  {
   "cell_type": "code",
   "execution_count": 54,
   "metadata": {},
   "outputs": [],
   "source": [
    "df.to_csv(\"/Users/anorawu/BFI Dropbox/Wanru Wu/Cloudseeding/data/气象局数据/人工处理/result_with_text.csv\")"
   ]
  },
  {
   "cell_type": "code",
   "execution_count": null,
   "metadata": {},
   "outputs": [],
   "source": [
    "import pandas as pd\n",
    "import numpy as np\n",
    "\n",
    "# Create a sample DataFrame with 10 rows and some NA values\n",
    "data = {\n",
    "    \"A\": [\"apple\", \"banana\", \"cherry\", np.nan, \"date\", \"fig\", np.nan, \"grape\", \"honeydew\", \"kiwi\"],\n",
    "    \"B\": [1, 2, np.nan, 4, 5, np.nan, 7, 8, 9, 10],\n",
    "    \"C\": [np.nan, 22, 33, 44, np.nan, np.nan, 77, 88, np.nan, 100],\n",
    "    \"D\": [101, np.nan, 103, 104, 105, 106, np.nan, 108, 109, np.nan]\n",
    "}\n",
    "\n",
    "data = pd.DataFrame(data)\n",
    "print(data)\n",
    "\n",
    "print(data[[\"B\",\"C\",\"D\"]].fillna(method='bfill',axis=1).iloc[:,0])\n",
    "data['E'] = data[[\"B\",\"C\",\"D\"]].fillna(method='bfill',axis=1).iloc[:,0]\n",
    "print(data)"
   ]
  }
 ],
 "metadata": {
  "kernelspec": {
   "display_name": "cloud",
   "language": "python",
   "name": "python3"
  },
  "language_info": {
   "codemirror_mode": {
    "name": "ipython",
    "version": 3
   },
   "file_extension": ".py",
   "mimetype": "text/x-python",
   "name": "python",
   "nbconvert_exporter": "python",
   "pygments_lexer": "ipython3",
   "version": "3.12.7"
  }
 },
 "nbformat": 4,
 "nbformat_minor": 2
}
