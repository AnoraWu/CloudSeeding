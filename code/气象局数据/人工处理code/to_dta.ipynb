{
 "cells": [
  {
   "cell_type": "code",
   "execution_count": 15,
   "metadata": {},
   "outputs": [],
   "source": [
    "import pandas as pd\n",
    "\n",
    "# 创建DataFrame\n",
    "df = pd.read_csv('result.csv')\n",
    "\n",
    "# 转换日期列为 datetime 格式，并提取年月日\n",
    "df['date'] = pd.to_datetime(df['date'])\n",
    "df['year'] = df['date'].dt.year\n",
    "df['month'] = df['date'].dt.month\n",
    "df['day'] = df['date'].dt.day\n",
    "\n",
    "# 拆分 'location' 列为多个行政区级别\n",
    "split_columns = df['location'].str.split(' ', expand=True)\n",
    "\n",
    "# 定义最大列数（5个层次：省、市、区县、乡镇、村或其他）\n",
    "max_columns = 5\n",
    "split_columns = split_columns.reindex(columns=range(max_columns))\n",
    "\n",
    "# 处理重庆市开头的情况\n",
    "# 如果第一列是 '重庆市'，则设置 city 列为 None，后面的列依次后移\n",
    "split_columns.loc[split_columns[0] == '重庆市', 1:] = split_columns.loc[\n",
    "    split_columns[0] == '重庆市', 0:max_columns - 1\n",
    "].shift(1, axis=1)\n",
    "split_columns.loc[split_columns[0] == '重庆市', 1] = None  # 设置 city 列为 None\n",
    "\n",
    "# 设置列名\n",
    "location_columns = ['province', 'city', 'district', 'town', 'village']\n",
    "split_columns.columns = location_columns\n",
    "\n",
    "# 将拆分结果与原DataFrame合并，并删除原始 'location' 列\n",
    "df = pd.concat([df, split_columns], axis=1)\n",
    "df.drop(columns='location', inplace=True)\n",
    "\n",
    "# 显示处理后的 DataFrame\n",
    "df.to_csv('final_result.csv')"
   ]
  }
 ],
 "metadata": {
  "kernelspec": {
   "display_name": "cloud",
   "language": "python",
   "name": "python3"
  },
  "language_info": {
   "codemirror_mode": {
    "name": "ipython",
    "version": 3
   },
   "file_extension": ".py",
   "mimetype": "text/x-python",
   "name": "python",
   "nbconvert_exporter": "python",
   "pygments_lexer": "ipython3",
   "version": "3.12.7"
  }
 },
 "nbformat": 4,
 "nbformat_minor": 2
}
