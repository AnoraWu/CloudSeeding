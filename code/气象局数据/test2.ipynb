{
 "cells": [
  {
   "cell_type": "code",
   "execution_count": 77,
   "metadata": {},
   "outputs": [],
   "source": [
    "import pandas as pd\n",
    "\n",
    "folder = \"/Users/anorawu/BFI Dropbox/Wanru Wu/Cloudseeding/data/气象局数据/人工处理\"\n",
    "input_dir = f\"{folder}/result_with_text.csv\"\n",
    "\n",
    "df = pd.read_csv(input_dir)"
   ]
  },
  {
   "cell_type": "code",
   "execution_count": 78,
   "metadata": {},
   "outputs": [],
   "source": [
    "# 利用正则提取发布时间信息\n",
    "df['time1'] = df['气象局公告内容'].str.extract(r'(发布时间：20\\d{2}-\\d{2}-\\d{2})')\n",
    "df['time1.5'] = df['气象局公告内容'].str.extract(r'(发布时间:\\s20\\d{2}-\\d{2}-\\d{2})')\n",
    "df['time2'] = df['气象局公告内容'].str.extract(r'(发布日期：20\\d{2}-\\d{2}-\\d{2})')\n",
    "df['time3'] = df['气象局公告内容'].str.extract(r'(发布时间：\\s*20\\d{2}年\\d{1,2}月\\d{1,2}日)')\n",
    "df['time4'] = df['气象局公告内容'].str.extract(r'(发布日期：\\s*20\\d{2}年\\d{1,2}月\\d{1,2}日)')\n",
    "df['time5'] = df['气象局公告内容'].str.extract(r'(时间：20\\d{2}-\\d{2}-\\d{2})')\n",
    "df['time6'] = df['气象局公告内容'].str.extract(r'(日期：20\\d{2}-\\d{2}-\\d{2})')\n",
    "df['time7'] = df['气象局公告内容'].str.extract(r'(发布时间：\\s*20\\d{2}-\\d{2}-\\d{2})')\n",
    "df['time8'] = df['气象局公告内容'].str.extract(r'(发布日期：\\s*20\\d{2}-\\d{2}-\\d{2})')\n",
    "df['time9'] = df['气象局公告内容'].str.extract(r'(20\\d{2}-\\d{2}-\\d{2} \\d{2}:\\d{2})')\n",
    "df['time10'] = df['气象局公告内容'].str.extract(r'(人工增雨作业公告（20\\d{2}\\.\\d{2}\\.\\d{2}）)')\n",
    "df['time11'] = df['气象局公告内容'].str.extract(r'(人工增雨作业\\s20\\d{2}-\\d{2}-\\d{2})')\n",
    "df['time12'] = df['气象局公告内容'].str.extract(r'(时间：20\\d{2}年\\d{2}月\\d{2}日)')\n",
    "df['time13'] = df['气象局公告内容'].str.extract(r'(日期：20\\d{2}年\\d{2}月\\d{2}日)')\n",
    "\n",
    "df.to_csv('披露时间.csv')\n"
   ]
  },
  {
   "cell_type": "code",
   "execution_count": 58,
   "metadata": {},
   "outputs": [],
   "source": [
    "df[['time','location','index','time1','time1.5','time2','time3','time4','time5','time6','time7','time8','time9','time10','time11','time12','time13']].to_csv(f\"{folder}/披露时间only.csv\")"
   ]
  },
  {
   "cell_type": "code",
   "execution_count": null,
   "metadata": {},
   "outputs": [],
   "source": [
    "import pandas as pd\n",
    "import numpy as np\n",
    "\n",
    "# Create a sample DataFrame with 10 rows and some NA values\n",
    "data = {\n",
    "    \"A\": [\"apple\", \"banana\", \"cherry\", np.nan, \"date\", \"fig\", np.nan, \"grape\", \"honeydew\", \"kiwi\"],\n",
    "    \"B\": [1, 2, np.nan, 4, 5, np.nan, 7, 8, 9, 10],\n",
    "    \"C\": [np.nan, 22, 33, 44, np.nan, np.nan, 77, 88, np.nan, 100],\n",
    "    \"D\": [101, np.nan, 103, 104, 105, 106, np.nan, 108, 109, np.nan]\n",
    "}\n",
    "\n",
    "data = pd.DataFrame(data)\n",
    "print(data)\n",
    "\n",
    "print(data[[\"B\",\"C\",\"D\"]].fillna(method='bfill',axis=1).iloc[:,0])\n",
    "data['E'] = data[[\"B\",\"C\",\"D\"]].fillna(method='bfill',axis=1).iloc[:,0]\n",
    "print(data)"
   ]
  },
  {
   "cell_type": "code",
   "execution_count": null,
   "metadata": {},
   "outputs": [],
   "source": [
    "\n",
    "df2 = pd.read_csv(f\"{folder}/披露时间only_cleaned.csv\")\n",
    "df['issue_time'] = df2[['time1','time1-5','time2','time3','time4','time5',\n",
    "                        'time6','time7','time8','time9','time10','time11',\n",
    "                        'time12','time13']].fillna(method='bfill', axis=1).iloc[:, 0]\n",
    "df[['time','location','index','气象局公告内容','issue_time']].to_csv(f\"{folder}/result_text_issuetime.csv\")\n",
    "\n",
    "df3 = df[df['issue_time'].isna()]\n",
    "df3.drop_duplicates(subset=['气象局公告内容'],inplace=True)\n",
    "df3.to_csv(f\"{folder}/need_manual_issue_time.csv\")\n",
    "\n",
    "df4 = pd.read_csv(\"/Users/anorawu/BFI Dropbox/Wanru Wu/Cloudseeding/data/气象局数据/data_bureau.csv\")\n",
    "df4[\"气象局公告内容\"] = df4[\"气象局公告内容\"].str.replace(r'\\s+', ' ', regex=True)\n",
    "df4.drop_duplicates(inplace=True)\n",
    "df5 = df3.merge(df4, on='气象局公告内容', how='left')\n",
    "df5.to_csv(f\"{folder}/need_manual_issue_time_url.csv\")"
   ]
  },
  {
   "cell_type": "code",
   "execution_count": 95,
   "metadata": {},
   "outputs": [],
   "source": [
    "df3 = df[df['issue_time'].isna()]\n",
    "df3.to_csv(f\"{folder}/need_manual_issue_time.csv\")"
   ]
  },
  {
   "cell_type": "code",
   "execution_count": null,
   "metadata": {},
   "outputs": [],
   "source": [
    "df4 = pd.read_csv(\"/Users/anorawu/BFI Dropbox/Wanru Wu/Cloudseeding/data/气象局数据/data_bureau.csv\")\n",
    "df4[\"气象局公告内容\"] = df4[\"气象局公告内容\"].str.replace(r'\\s+', ' ', regex=True)\n",
    "df4"
   ]
  },
  {
   "cell_type": "code",
   "execution_count": null,
   "metadata": {},
   "outputs": [],
   "source": [
    "df4.drop_duplicates(inplace=True)\n",
    "df4"
   ]
  },
  {
   "cell_type": "code",
   "execution_count": null,
   "metadata": {},
   "outputs": [],
   "source": [
    "df3.drop_duplicates(subset=['气象局公告内容'],inplace=True)\n",
    "df5 = df3.merge(df4, on='气象局公告内容', how='left')\n",
    "df5"
   ]
  },
  {
   "cell_type": "code",
   "execution_count": null,
   "metadata": {},
   "outputs": [],
   "source": [
    "df6 = pd.read_csv(f\"{folder}/need_manual_issue_time_url_cleaned.csv\")\n",
    "df7 = pd.read_csv(f\"{folder}/result_text_issuetime.csv\")\n",
    "\n",
    "final_data = df7.merge(df6[['index','issue_time2']], on='index', how='left')\n",
    "final_data['issue_time'] = final_data[['issue_time','issue_time2']].bfill(axis=1).iloc[:,0]\n",
    "final_data.drop(columns=['Unnamed: 0', 'issue_time2'],inplace=True)\n",
    "final_data.to_csv(f\"{folder}/result_text_issuetime_cleaned.csv\")"
   ]
  },
  {
   "cell_type": "code",
   "execution_count": null,
   "metadata": {},
   "outputs": [],
   "source": [
    "print(final_data[final_data['issue_time'].isna()])"
   ]
  }
 ],
 "metadata": {
  "kernelspec": {
   "display_name": "3.10.12",
   "language": "python",
   "name": "python3"
  },
  "language_info": {
   "codemirror_mode": {
    "name": "ipython",
    "version": 3
   },
   "file_extension": ".py",
   "mimetype": "text/x-python",
   "name": "python",
   "nbconvert_exporter": "python",
   "pygments_lexer": "ipython3",
   "version": "3.10.12"
  }
 },
 "nbformat": 4,
 "nbformat_minor": 2
}
