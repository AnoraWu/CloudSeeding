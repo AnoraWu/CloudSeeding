{
 "cells": [
  {
   "cell_type": "code",
   "execution_count": 1,
   "metadata": {},
   "outputs": [],
   "source": [
    "import pandas as pd\n",
    "\n",
    "folder = \"/Users/anorawu/BFI Dropbox/Wanru Wu/Cloudseeding/data/气象局数据/人工处理\"\n",
    "\n",
    "using = pd.read_stata(f\"{folder}/temp.dta\")\n",
    "master = pd.read_stata(f\"{folder}/skeleton_merged2024.dta\")"
   ]
  },
  {
   "cell_type": "code",
   "execution_count": 4,
   "metadata": {},
   "outputs": [],
   "source": [
    "merge = pd.merge(master,using, on=['prov','city','county','year','month','day'], how='outer')"
   ]
  }
 ],
 "metadata": {
  "kernelspec": {
   "display_name": "3.10.12",
   "language": "python",
   "name": "python3"
  },
  "language_info": {
   "codemirror_mode": {
    "name": "ipython",
    "version": 3
   },
   "file_extension": ".py",
   "mimetype": "text/x-python",
   "name": "python",
   "nbconvert_exporter": "python",
   "pygments_lexer": "ipython3",
   "version": "3.10.12"
  }
 },
 "nbformat": 4,
 "nbformat_minor": 2
}
