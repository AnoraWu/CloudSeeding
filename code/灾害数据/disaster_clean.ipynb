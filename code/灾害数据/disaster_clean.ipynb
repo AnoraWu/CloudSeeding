{
 "cells": [
  {
   "cell_type": "code",
   "execution_count": 1,
   "metadata": {},
   "outputs": [
    {
     "name": "stderr",
     "output_type": "stream",
     "text": [
      "C:\\Users\\Anora\\AppData\\Local\\Temp\\ipykernel_4576\\2500311126.py:22: SettingWithCopyWarning: \n",
      "A value is trying to be set on a copy of a slice from a DataFrame.\n",
      "Try using .loc[row_indexer,col_indexer] = value instead\n",
      "\n",
      "See the caveats in the documentation: https://pandas.pydata.org/pandas-docs/stable/user_guide/indexing.html#returning-a-view-versus-a-copy\n",
      "  df2['adcode'] = cpca.transform(df[\"Areas\"])['adcode']\n"
     ]
    }
   ],
   "source": [
    "import pandas as pd\n",
    "import numpy as np\n",
    "from datetime import datetime, timedelta\n",
    "import cpca\n",
    "import os\n",
    "os.chdir(\"D:\\Git Local\\CloudSeeding\\code\\灾害数据\")\n",
    "df = pd.read_stata(\"自然灾害事件_since_2014_CN.dta\")\n",
    "\n",
    "# clean the data\n",
    "df.drop([0,1],axis=0,inplace=True)\n",
    "df['City'] = df['City'].str.replace(\"、\",\",\")\n",
    "df['City'] = df['City'].str.replace(\"，\",\",\")\n",
    "df['City'] = df['City'].str.split(',')\n",
    "df = df.explode('City')\n",
    "\n",
    "# find the adcode\n",
    "df.reset_index(drop=True,inplace=True)\n",
    "df['adcode'] = cpca.transform(df[\"City\"])['adcode']\n",
    "df2 = df[df['adcode'].isna()]\n",
    "\n",
    "df2.reset_index(drop=True,inplace=True)\n",
    "df2['adcode'] = cpca.transform(df[\"Areas\"])['adcode']\n",
    "\n",
    "data = pd.concat([df,df2])\n",
    "data.dropna(subset=['adcode'],inplace=True)\n",
    "\n",
    "# Drop rows where last four digits of adcode are \"0000\", except for specified values\n",
    "mask = (data['adcode'].astype(str).str[-4:] == \"0000\") & (~data['adcode'].isin([120000, 110000, 500000, 310000]))\n",
    "data = data[~mask]\n",
    "\n",
    "# Generate citycode2 from the first four digits of adcode\n",
    "data['citycode2'] = data['adcode'].astype(str).str[:4]\n",
    "data['citycode2'] = data['citycode2'].astype(int)\n",
    "\n",
    "# Adjust citycode2 for direct-controlled municipalities\n",
    "for code, new_code in zip([\"11\", \"12\", \"31\", \"50\"], [1100, 1200, 3100, 5000]):\n",
    "    data.loc[data['citycode2'].astype(str).str[:2] == code, 'citycode2'] = new_code\n",
    "\n",
    "data.to_csv(\"disaster_adcode.csv\")"
   ]
  }
 ],
 "metadata": {
  "kernelspec": {
   "display_name": "Python 3",
   "language": "python",
   "name": "python3"
  },
  "language_info": {
   "codemirror_mode": {
    "name": "ipython",
    "version": 3
   },
   "file_extension": ".py",
   "mimetype": "text/x-python",
   "name": "python",
   "nbconvert_exporter": "python",
   "pygments_lexer": "ipython3",
   "version": "3.9.11"
  }
 },
 "nbformat": 4,
 "nbformat_minor": 2
}
