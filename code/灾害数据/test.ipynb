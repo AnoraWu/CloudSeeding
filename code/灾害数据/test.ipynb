{
 "cells": [
  {
   "cell_type": "code",
   "execution_count": 13,
   "metadata": {},
   "outputs": [],
   "source": [
    "import pandas as pd\n",
    "import numpy as np\n",
    "from datetime import datetime, timedelta\n",
    "import cpca\n",
    "import os\n",
    "os.chdir(\"/Users/anorawu/BFI Dropbox/Wanru Wu/Cloudseeding/data/灾害数据/\")\n",
    "df = pd.read_stata(\"自然灾害事件_since_2014_CN.dta\")"
   ]
  },
  {
   "cell_type": "code",
   "execution_count": 14,
   "metadata": {},
   "outputs": [
    {
     "data": {
      "text/plain": [
       "2          怒江傈僳族自治州福贡县石月亮乡\n",
       "3                贵州省铜仁市江口县\n",
       "4                   六盘水市盘县\n",
       "4       黔西南布依族苗族自治州安龙县和兴义市\n",
       "5          新疆生产建设兵团六师六运湖农场\n",
       "               ...        \n",
       "3650                   日喀则\n",
       "3650            昌都2市5个县(区)\n",
       "3651                绥化市绥棱县\n",
       "3651               哈尔滨市木兰县\n",
       "3651               牡丹江市林口县\n",
       "Name: Areas, Length: 9245, dtype: object"
      ]
     },
     "execution_count": 14,
     "metadata": {},
     "output_type": "execute_result"
    }
   ],
   "source": [
    "# clean the data\n",
    "df.drop([0,1],axis=0,inplace=True)\n",
    "df['Areas'] = df['Areas'].str.replace(\"、\",\",\")\n",
    "df['Areas'] = df['Areas'].str.replace(\"，\",\",\")\n",
    "df['Areas'] = df['Areas'].str.split(',')\n",
    "df = df.explode('Areas')\n",
    "df['Areas']"
   ]
  },
  {
   "cell_type": "code",
   "execution_count": 17,
   "metadata": {},
   "outputs": [],
   "source": [
    "# find the adcode\n",
    "df.reset_index(drop=True,inplace=True)\n",
    "df['adcode'] = cpca.transform(df[\"Areas\"])['adcode']\n",
    "df.drop_duplicates(subset=['EventStartDate','Province','City','Areas','adcode'],inplace=True)"
   ]
  },
  {
   "cell_type": "code",
   "execution_count": 19,
   "metadata": {},
   "outputs": [],
   "source": [
    "df.to_csv(\"disaster_adcode.csv\")"
   ]
  }
 ],
 "metadata": {
  "kernelspec": {
   "display_name": "cloud",
   "language": "python",
   "name": "python3"
  },
  "language_info": {
   "codemirror_mode": {
    "name": "ipython",
    "version": 3
   },
   "file_extension": ".py",
   "mimetype": "text/x-python",
   "name": "python",
   "nbconvert_exporter": "python",
   "pygments_lexer": "ipython3",
   "version": "3.12.7"
  }
 },
 "nbformat": 4,
 "nbformat_minor": 2
}
