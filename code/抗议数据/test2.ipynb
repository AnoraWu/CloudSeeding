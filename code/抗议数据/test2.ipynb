{
 "cells": [
  {
   "cell_type": "code",
   "execution_count": 1,
   "metadata": {},
   "outputs": [],
   "source": [
    "import pandas as pd\n",
    "import numpy as np\n",
    "from datetime import datetime, timedelta\n",
    "import cpca\n",
    "import os\n",
    "os.chdir(\"/Users/anorawu/BFI Dropbox/Wanru Wu/Cloudseeding/data/抗议数据\")\n",
    "\n",
    "\n",
    "df = pd.read_stata(\"eventstudy_city.dta\")\n",
    "df = df.sort_values(by=['citycode', 'date']).reset_index()\n",
    "df[\"day\"] = df.groupby(\"citycode\").cumcount()\n",
    "df['event'] = 0\n",
    "\n",
    "# Identify events (first protest and subsequent protests >= 3 months apart)\n",
    "for city, city_df in df.groupby('citycode'):\n",
    "    protest_dates = city_df.loc[city_df['n_prt_rfa'] > 0, 'day'].sort_values().tolist()\n",
    "    last_event = None\n",
    "    \n",
    "    for protest_date in protest_dates:\n",
    "        if last_event is None or (protest_date - last_event) >= 45:\n",
    "            df.loc[(df['citycode'] == int(city)) & (df['day'] == protest_date),'event'] = 1\n",
    "            last_event = protest_date\n",
    "\n",
    "index_list = df.loc[df['event']==1,'index'].tolist()\n",
    "df['to_day']=None\n",
    "for index in index_list:\n",
    "    for i in range(-22,23):\n",
    "        if not (index+i<0) or (index+i>len(df)):\n",
    "            df.loc[df['index']==index+i,'to_day'] = i\n",
    "\n",
    "df.to_csv('eventstudy_rfa_city.csv')"
   ]
  }
 ],
 "metadata": {
  "kernelspec": {
   "display_name": "cloud",
   "language": "python",
   "name": "python3"
  },
  "language_info": {
   "codemirror_mode": {
    "name": "ipython",
    "version": 3
   },
   "file_extension": ".py",
   "mimetype": "text/x-python",
   "name": "python",
   "nbconvert_exporter": "python",
   "pygments_lexer": "ipython3",
   "version": "3.12.7"
  }
 },
 "nbformat": 4,
 "nbformat_minor": 2
}
