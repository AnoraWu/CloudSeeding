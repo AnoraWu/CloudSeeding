{
 "cells": [
  {
   "cell_type": "code",
   "execution_count": null,
   "metadata": {},
   "outputs": [],
   "source": [
    "import ollama\n",
    "import pandas as pd\n",
    "import csv\n",
    "import logging\n",
    "import sys\n",
    "import json\n",
    "import os\n",
    "\n",
    "def get_qwen_response(text):\n",
    "    # 构造prompt\n",
    "    prompt = f\"\"\"目标：请帮助我返回“{text}”中所有的作业点或者炮台信息。\n",
    "    不要返回除了作业点或者炮台之外的任何信息。\n",
    "    如果没有作业点或者炮台信息，返回\"None\"\n",
    "    \"\"\"\n",
    "\n",
    "    response = ollama.chat(model=\"qwen2:7b\", messages=[\n",
    "        {\n",
    "            \"role\": \"user\",\n",
    "            \"content\": prompt,\n",
    "        },\n",
    "    ])\n",
    "    result = response['message']['content']\n",
    "    return result\n",
    "\n",
    "os.chdir(\"/Users/anorawu/Documents/GitHub/CloudSeeding/data/炮台数据\")\n",
    "df = pd.read_csv(\"炮台数据.csv\", encoding=\"utf-8\")\n",
    "for index, row in df.iterrows():\n",
    "    df.loc[index,'area'] = get_qwen_response(df.loc[index,'微博内容'])\n",
    "    print(get_qwen_response(df.loc[index,'微博内容']))"
   ]
  },
  {
   "cell_type": "code",
   "execution_count": null,
   "metadata": {},
   "outputs": [],
   "source": [
    "df.to_csv('炮台数据_qwen.csv')"
   ]
  }
 ],
 "metadata": {
  "kernelspec": {
   "display_name": "cloud",
   "language": "python",
   "name": "python3"
  },
  "language_info": {
   "codemirror_mode": {
    "name": "ipython",
    "version": 3
   },
   "file_extension": ".py",
   "mimetype": "text/x-python",
   "name": "python",
   "nbconvert_exporter": "python",
   "pygments_lexer": "ipython3",
   "version": "3.12.7"
  }
 },
 "nbformat": 4,
 "nbformat_minor": 2
}
